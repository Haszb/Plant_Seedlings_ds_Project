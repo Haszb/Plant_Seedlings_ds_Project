{
 "cells": [
  {
   "cell_type": "markdown",
   "metadata": {},
   "source": [
    "# <!-- TITLE --> __```Exploration des données + Data Viz```__"
   ]
  },
  {
   "cell_type": "markdown",
   "metadata": {},
   "source": [
    "### __```Importations des modules Python```__"
   ]
  },
  {
   "cell_type": "code",
   "execution_count": null,
   "metadata": {},
   "outputs": [],
   "source": [
    "import pandas as pd  \n",
    "import numpy  as np \n",
    "from sklearn.preprocessing import LabelEncoder"
   ]
  },
  {
   "cell_type": "markdown",
   "metadata": {},
   "source": [
    "### __```Importations des modules Python externes```__"
   ]
  },
  {
   "cell_type": "code",
   "execution_count": 4,
   "metadata": {},
   "outputs": [],
   "source": [
    "from modules_python.file_extraction.extraction import read_plant_datasets\n"
   ]
  },
  {
   "cell_type": "markdown",
   "metadata": {},
   "source": [
    "### __```Définir le chemin d'accès du dataset```__"
   ]
  },
  {
   "cell_type": "code",
   "execution_count": 5,
   "metadata": {},
   "outputs": [],
   "source": [
    "# Mettre son chemin ici, différent pour tout le monde\n",
    "PATH = \"mettre_le_vrai_chemin\""
   ]
  },
  {
   "cell_type": "markdown",
   "metadata": {},
   "source": []
  },
  {
   "cell_type": "code",
   "execution_count": null,
   "metadata": {},
   "outputs": [],
   "source": [
    "# extraction de tout le dataset (samples = 12 et pas = 1)\n",
    "type_indexes    = [x for x in range(0, 12, 1) ]\n",
    "\n",
    "# type de filtre\n",
    "channel_type    = \"RGB2-LAB\"\n",
    "\n",
    "# fenetres de redimensionnement \n",
    "reshape = [(160, 160), (300, 300)]\n",
    "\n",
    "# format \n",
    "return_as = \"dict\"\n",
    "\n",
    "# verbose\n",
    "verbose = 1\n",
    "\n",
    "# début de l'extraction \n",
    "DATA = read_plant_datasets(path=PATH, reshape=reshape, return_as=return_as, \n",
    "                           verbose=verbose, type_indexes=type_indexes, channel_type=channel_type)"
   ]
  },
  {
   "cell_type": "code",
   "execution_count": null,
   "metadata": {},
   "outputs": [],
   "source": []
  }
 ],
 "metadata": {
  "kernelspec": {
   "display_name": "Python 3",
   "language": "python",
   "name": "python3"
  },
  "language_info": {
   "codemirror_mode": {
    "name": "ipython",
    "version": 3
   },
   "file_extension": ".py",
   "mimetype": "text/x-python",
   "name": "python",
   "nbconvert_exporter": "python",
   "pygments_lexer": "ipython3",
   "version": "3.9.7"
  },
  "orig_nbformat": 4
 },
 "nbformat": 4,
 "nbformat_minor": 2
}

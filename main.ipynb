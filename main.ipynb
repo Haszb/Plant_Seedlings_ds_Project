{
 "cells": [
  {
   "cell_type": "markdown",
   "metadata": {},
   "source": [
    "# <!-- TITLE --> __```Exploration des données + Data Viz```__"
   ]
  },
  {
   "cell_type": "markdown",
   "metadata": {},
   "source": [
    "### __```Importations des modules Python```__"
   ]
  },
  {
   "cell_type": "code",
   "execution_count": 1,
   "metadata": {},
   "outputs": [],
   "source": [
    "import pandas as pd  \n",
    "import numpy  as np \n",
    "from sklearn.preprocessing import LabelEncoder"
   ]
  },
  {
   "cell_type": "markdown",
   "metadata": {},
   "source": [
    "### __```Importations des modules Python externes```__"
   ]
  },
  {
   "cell_type": "code",
   "execution_count": 2,
   "metadata": {},
   "outputs": [],
   "source": [
    "from modules_python.file_extraction.extraction import read_plant_datasets\n"
   ]
  },
  {
   "cell_type": "markdown",
   "metadata": {},
   "source": [
    "### __```Définir le chemin d'accès du dataset```__"
   ]
  },
  {
   "cell_type": "code",
   "execution_count": 3,
   "metadata": {},
   "outputs": [],
   "source": [
    "# Mettre son chemin ici, différent pour tout le monde\n",
    "PATH = \"mettre_le_vrai_chemin\""
   ]
  },
  {
   "cell_type": "markdown",
   "metadata": {},
   "source": [
    "### __```Extraction des données```__\n",
    "\n",
    "[Plus de détails sur les différents paramètres ici](https://github.com/amiehe-essomba/Plant_Seedlings_ds_Project/blob/Plant_Seedlings/details.md)"
   ]
  },
  {
   "cell_type": "code",
   "execution_count": 4,
   "metadata": {},
   "outputs": [
    {
     "ename": "ImportError",
     "evalue": "cannot import name 'preprocessing' from 'modules_python.image_processing' (c:\\Users\\amib\\Documents\\Py_Projects\\DS_project\\plant_seedlings\\Plant_Seedlings_ds_Project\\modules_python\\image_processing\\__init__.py)",
     "output_type": "error",
     "traceback": [
      "\u001b[1;31m---------------------------------------------------------------------------\u001b[0m",
      "\u001b[1;31mImportError\u001b[0m                               Traceback (most recent call last)",
      "Cell \u001b[1;32mIn[4], line 23\u001b[0m\n\u001b[0;32m     20\u001b[0m verbose \u001b[39m=\u001b[39m \u001b[39m1\u001b[39m\n\u001b[0;32m     22\u001b[0m \u001b[39m# début de l'extraction \u001b[39;00m\n\u001b[1;32m---> 23\u001b[0m DATA \u001b[39m=\u001b[39m read_plant_datasets(\n\u001b[0;32m     24\u001b[0m                         path\u001b[39m=\u001b[39;49mPATH, \n\u001b[0;32m     25\u001b[0m                         reshape\u001b[39m=\u001b[39;49mreshape, \n\u001b[0;32m     26\u001b[0m                         return_as\u001b[39m=\u001b[39;49mreturn_as, \n\u001b[0;32m     27\u001b[0m                         verbose\u001b[39m=\u001b[39;49mverbose, \n\u001b[0;32m     28\u001b[0m                         type_indexes\u001b[39m=\u001b[39;49mtype_indexes, \n\u001b[0;32m     29\u001b[0m                         channel_type\u001b[39m=\u001b[39;49mchannel_type\n\u001b[0;32m     30\u001b[0m                         )\n",
      "File \u001b[1;32mc:\\Users\\amib\\Documents\\Py_Projects\\DS_project\\plant_seedlings\\Plant_Seedlings_ds_Project\\modules_python\\file_extraction\\extraction.py:100\u001b[0m, in \u001b[0;36mread_plant_datasets\u001b[1;34m(path, reshape, return_as, subset, channel_type, verbose, limit, type_indexes, image_idexes)\u001b[0m\n\u001b[0;32m     98\u001b[0m \u001b[39mimport\u001b[39;00m \u001b[39mmatplotlib\u001b[39;00m\u001b[39m.\u001b[39;00m\u001b[39mpyplot\u001b[39;00m \u001b[39mas\u001b[39;00m \u001b[39mplt\u001b[39;00m\n\u001b[0;32m     99\u001b[0m \u001b[39mfrom\u001b[39;00m   \u001b[39msklearn\u001b[39;00m\u001b[39m.\u001b[39;00m\u001b[39mpreprocessing\u001b[39;00m \u001b[39mimport\u001b[39;00m LabelEncoder\n\u001b[1;32m--> 100\u001b[0m \u001b[39mfrom\u001b[39;00m \u001b[39mmodules_python\u001b[39;00m\u001b[39m.\u001b[39;00m\u001b[39mimage_processing\u001b[39;00m \u001b[39mimport\u001b[39;00m preprocessing\n\u001b[0;32m    101\u001b[0m \u001b[39mfrom\u001b[39;00m \u001b[39malive_progress\u001b[39;00m \u001b[39mimport\u001b[39;00m alive_bar\n\u001b[0;32m    102\u001b[0m \u001b[39mfrom\u001b[39;00m \u001b[39mtime\u001b[39;00m \u001b[39mimport\u001b[39;00m sleep\n",
      "\u001b[1;31mImportError\u001b[0m: cannot import name 'preprocessing' from 'modules_python.image_processing' (c:\\Users\\amib\\Documents\\Py_Projects\\DS_project\\plant_seedlings\\Plant_Seedlings_ds_Project\\modules_python\\image_processing\\__init__.py)"
     ]
    }
   ],
   "source": [
    "# nombres d'espèces de plante \n",
    "samples = 12\n",
    "\n",
    "# pas\n",
    "pas = 1\n",
    "\n",
    "# extraction de tout le dataset (samples = 12 et pas = 1)\n",
    "type_indexes    = [x for x in range(0, samples, pas) ]\n",
    "\n",
    "# type de filtre\n",
    "channel_type    = \"RGB2-LAB\"\n",
    "\n",
    "# fenetres de redimensionnement \n",
    "reshape = [(160, 160), (300, 300)]\n",
    "\n",
    "# format \n",
    "return_as = \"dict\"\n",
    "\n",
    "# verbose\n",
    "verbose = 1\n",
    "\n",
    "# début de l'extraction \n",
    "DATA = read_plant_datasets(\n",
    "                        path=PATH, \n",
    "                        reshape=reshape, \n",
    "                        return_as=return_as, \n",
    "                        verbose=verbose, \n",
    "                        type_indexes=type_indexes, \n",
    "                        channel_type=channel_type\n",
    "                        )"
   ]
  }
 ],
 "metadata": {
  "kernelspec": {
   "display_name": "Python 3",
   "language": "python",
   "name": "python3"
  },
  "language_info": {
   "codemirror_mode": {
    "name": "ipython",
    "version": 3
   },
   "file_extension": ".py",
   "mimetype": "text/x-python",
   "name": "python",
   "nbconvert_exporter": "python",
   "pygments_lexer": "ipython3",
   "version": "3.9.7"
  },
  "orig_nbformat": 4
 },
 "nbformat": 4,
 "nbformat_minor": 2
}
